{
  "cells": [
    {
      "cell_type": "markdown",
      "metadata": {
        "id": "view-in-github",
        "colab_type": "text"
      },
      "source": [
        "<a href=\"https://colab.research.google.com/github/BadmusQudusAyomide/My-Projects/blob/main/a_python_program_to_build_an_aI_voice_assistant.ipynb\" target=\"_parent\"><img src=\"https://colab.research.google.com/assets/colab-badge.svg\" alt=\"Open In Colab\"/></a>"
      ]
    },
    {
      "cell_type": "markdown",
      "source": [
        "Sure, here is a Python program to build an AI voice assistant:"
      ],
      "metadata": {
        "id": "n-ljQ9GwqEJQ"
      }
    },
    {
      "cell_type": "code",
      "source": [
        "import speech_recognition as sr\n",
        "import pyttsx3\n",
        "import wikipedia\n",
        "import webbrowser\n",
        "\n",
        "# Initialize the speech recognition engine\n",
        "recognizer = sr.Recognizer()\n",
        "\n",
        "# Initialize the text-to-speech engine\n",
        "engine = pyttsx3.init()\n",
        "\n",
        "# Set the voice of the text-to-speech engine\n",
        "engine.setProperty('voice', 'en-us')\n",
        "\n",
        "# Define a function to speak text\n",
        "def speak(text):\n",
        "  engine.say(text)\n",
        "  engine.runAndWait()\n",
        "\n",
        "# Define a function to take a command from the user\n",
        "def take_command():\n",
        "  # Record the user's command\n",
        "  with sr.Microphone() as source:\n",
        "    recognizer.adjust_for_ambient_noise(source)\n",
        "    print('Listening...')\n",
        "    audio = recognizer.listen(source)\n",
        "\n",
        "  # Convert the audio to text\n",
        "  try:\n",
        "    command = recognizer.recognize_google(audio)\n",
        "    print('You said: {}'.format(command))\n",
        "  except:\n",
        "    print('I didn\\'t understand that.')\n",
        "    return None\n",
        "\n",
        "  return command\n",
        "\n",
        "# Define a function to perform a task based on the user's command\n",
        "def perform_task(command):\n",
        "  # If the user wants to search the web\n",
        "  if command.startswith('search'):\n",
        "    query = command.replace('search', '')\n",
        "    webbrowser.open('https://www.google.com/search?q=' + query)\n",
        "\n",
        "  # If the user wants to get information from Wikipedia\n",
        "  elif command.startswith('wikipedia'):\n",
        "    query = command.replace('wikipedia', '')\n",
        "    info = wikipedia.summary(query, sentences=2)\n",
        "    speak(info)\n",
        "\n",
        "  # If the user wants to do something else\n",
        "  else:\n",
        "    print('I don\\'t know how to do that.')\n",
        "\n",
        "# Start the voice assistant\n",
        "while True:\n",
        "  # Take a command from the user\n",
        "  command = take_command()\n",
        "\n",
        "  # If the user has entered a command, perform the task\n",
        "  if command is not None:\n",
        "    perform_task(command)"
      ],
      "outputs": [],
      "execution_count": null,
      "metadata": {
        "id": "gzht4sLhqEJW"
      }
    },
    {
      "cell_type": "markdown",
      "source": [
        "This is just a basic example of an AI voice assistant. You can add more features and functionality to it as you see fit."
      ],
      "metadata": {
        "id": "eWDHezNjqEJZ"
      }
    }
  ],
  "metadata": {
    "colab": {
      "provenance": [],
      "include_colab_link": true
    },
    "kernelspec": {
      "display_name": "Python 3",
      "name": "python3"
    }
  },
  "nbformat": 4,
  "nbformat_minor": 0
}